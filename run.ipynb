{
 "cells": [
  {
   "cell_type": "code",
   "execution_count": 9,
   "metadata": {},
   "outputs": [
    {
     "name": "stdout",
     "output_type": "stream",
     "text": [
      "0.4.1\n",
      "0.2.1\n"
     ]
    }
   ],
   "source": [
    "import torch\n",
    "import torchvision\n",
    "print(torch.__version__)\n",
    "print(torchvision.__version__)"
   ]
  },
  {
   "cell_type": "code",
   "execution_count": 1,
   "metadata": {},
   "outputs": [
    {
     "name": "stdout",
     "output_type": "stream",
     "text": [
      "start_iter 10\n",
      "------ITER 11------\n"
     ]
    },
    {
     "name": "stderr",
     "output_type": "stream",
     "text": [
      "/Users/ohkawatakehiko/Desktop/alpha-zero/othello/pytorch/NNet.py:120: UserWarning: volatile was removed and now has no effect. Use `with torch.no_grad():` instead.\n",
      "  board = Variable(board, volatile=True) #not update para\n",
      "/anaconda3/lib/python3.6/site-packages/torch/nn/functional.py:995: UserWarning: nn.functional.tanh is deprecated. Use torch.tanh instead.\n",
      "  warnings.warn(\"nn.functional.tanh is deprecated. Use torch.tanh instead.\")\n"
     ]
    },
    {
     "name": "stdout",
     "output_type": "stream",
     "text": [
      "\u001b[KSelf Play |################################| (1/1) Eps Time: 11.246s | Total: 0:00:11 | ETA: 0:00:00\n",
      "\u001b[?25hCheckpoint Directory exists! \n",
      "EPOCH ::: 1\n"
     ]
    },
    {
     "name": "stderr",
     "output_type": "stream",
     "text": [
      "/Users/ohkawatakehiko/Desktop/alpha-zero/othello/pytorch/NNet.py:82: UserWarning: invalid index of a 0-dim tensor. This will be an error in PyTorch 0.5. Use tensor.item() to convert a 0-dim tensor to a Python number\n",
      "  pi_losses.update(l_pi.data[0], boards.size(0))\n",
      "/Users/ohkawatakehiko/Desktop/alpha-zero/othello/pytorch/NNet.py:83: UserWarning: invalid index of a 0-dim tensor. This will be an error in PyTorch 0.5. Use tensor.item() to convert a 0-dim tensor to a Python number\n",
      "  v_losses.update(l_v.data[0], boards.size(0))\n"
     ]
    },
    {
     "name": "stdout",
     "output_type": "stream",
     "text": [
      "\u001b[KTraining Net |################################| (4/4) Data: 0.002s | Batch: 1.296s | Total: 0:00:05 | ETA: 0:00:02 | Loss_pi: 3.5860 | Loss_v: 0.464\n",
      "\u001b[?25hEPOCH ::: 2\n",
      "\u001b[KTraining Net |################################| (4/4) Data: 0.002s | Batch: 1.181s | Total: 0:00:04 | ETA: 0:00:02 | Loss_pi: 3.3600 | Loss_v: 0.109\n",
      "\u001b[?25hEPOCH ::: 3\n",
      "\u001b[KTraining Net |################################| (4/4) Data: 0.002s | Batch: 1.191s | Total: 0:00:04 | ETA: 0:00:02 | Loss_pi: 3.1479 | Loss_v: 0.032\n",
      "\u001b[?25hEPOCH ::: 4\n",
      "\u001b[KTraining Net |################################| (4/4) Data: 0.002s | Batch: 1.197s | Total: 0:00:04 | ETA: 0:00:02 | Loss_pi: 3.0441 | Loss_v: 0.030\n",
      "\u001b[?25hEPOCH ::: 5\n",
      "\u001b[KTraining Net |################################| (4/4) Data: 0.003s | Batch: 1.232s | Total: 0:00:04 | ETA: 0:00:02 | Loss_pi: 2.8895 | Loss_v: 0.028\n",
      "\u001b[?25hEPOCH ::: 6\n",
      "\u001b[KTraining Net |################################| (4/4) Data: 0.002s | Batch: 1.120s | Total: 0:00:04 | ETA: 0:00:02 | Loss_pi: 2.7410 | Loss_v: 0.028\n",
      "\u001b[?25hEPOCH ::: 7\n",
      "\u001b[KTraining Net |################################| (4/4) Data: 0.002s | Batch: 1.130s | Total: 0:00:04 | ETA: 0:00:02 | Loss_pi: 2.5221 | Loss_v: 0.033\n",
      "\u001b[?25hEPOCH ::: 8\n",
      "\u001b[KTraining Net |################################| (4/4) Data: 0.002s | Batch: 1.117s | Total: 0:00:04 | ETA: 0:00:02 | Loss_pi: 2.5647 | Loss_v: 0.043\n",
      "\u001b[?25hEPOCH ::: 9\n",
      "\u001b[KTraining Net |################################| (4/4) Data: 0.002s | Batch: 1.148s | Total: 0:00:04 | ETA: 0:00:02 | Loss_pi: 2.4662 | Loss_v: 0.020\n",
      "\u001b[?25hEPOCH ::: 10\n",
      "\u001b[KTraining Net |################################| (4/4) Data: 0.002s | Batch: 1.157s | Total: 0:00:04 | ETA: 0:00:02 | Loss_pi: 2.2726 | Loss_v: 0.026\n",
      "\u001b[?25hPITTING AGAINST PREVIOUS VERSION\n",
      "\n",
      "\u001b[?25hNEW/PREV WINS : 0 / 0 ; DRAWS : 0 ; ELO SCORE: 0.00(opp: 32.70)\n",
      "ACCEPTING NEW MODEL\n",
      "Checkpoint Directory exists! \n",
      "Checkpoint Directory exists! \n"
     ]
    }
   ],
   "source": [
    "from Coach import Coach\n",
    "from othello.OthelloGame import OthelloGame as Game\n",
    "from othello.pytorch.NNet import NNetWrapper as nn\n",
    "from utils import *\n",
    "\n",
    "args = dotdict({\n",
    "    'numIters': 1, #1000\n",
    "    'numEps': 1, #100\n",
    "    'tempThreshold': 15,\n",
    "    'updateThreshold': 0.6,\n",
    "    'maxlenOfQueue': 200000,\n",
    "    'numMCTSSims': 25,\n",
    "    'arenaCompare': 1, #40\n",
    "    'cpuct': 1,\n",
    "    'checkpoint': './temp/',\n",
    "    'load_model': False,\n",
    "    'load_folder_file': ('./temp','best.pth.tar'),\n",
    "    'load_folder_examples': ('./temp','checkpoint_0.pth.tar'),\n",
    "    'numItersForTrainExamplesHistory': 20,\n",
    "    'colab': False,\n",
    "    'start_iter': 10,\n",
    "    'prevEloScore': 32.70,\n",
    "})\n",
    "\n",
    "if __name__==\"__main__\":\n",
    "    g = Game(6)\n",
    "    nnet = nn(g)\n",
    "\n",
    "    if args.load_model:\n",
    "        nnet.load_checkpoint(args.load_folder_file[0], args.load_folder_file[1])\n",
    "\n",
    "    c = Coach(g, nnet, args)\n",
    "    if args.load_model:\n",
    "        print(\"Load trainExamples from file\")\n",
    "        c.loadTrainExamples()\n",
    "    c.learn()"
   ]
  },
  {
   "cell_type": "code",
   "execution_count": 3,
   "metadata": {},
   "outputs": [],
   "source": [
    "import os\n",
    "if not os.path.exists(\"./log\"):\n",
    "            os.makedirs(\"log\")"
   ]
  },
  {
   "cell_type": "code",
   "execution_count": 13,
   "metadata": {},
   "outputs": [
    {
     "data": {
      "text/plain": [
       "1.0"
      ]
     },
     "execution_count": 13,
     "metadata": {},
     "output_type": "execute_result"
    }
   ],
   "source": [
    "a = torch.Tensor([1])\n",
    "a.item()"
   ]
  },
  {
   "cell_type": "code",
   "execution_count": null,
   "metadata": {},
   "outputs": [],
   "source": []
  }
 ],
 "metadata": {
  "kernelspec": {
   "display_name": "Python 3",
   "language": "python",
   "name": "python3"
  },
  "language_info": {
   "codemirror_mode": {
    "name": "ipython",
    "version": 3
   },
   "file_extension": ".py",
   "mimetype": "text/x-python",
   "name": "python",
   "nbconvert_exporter": "python",
   "pygments_lexer": "ipython3",
   "version": "3.6.4"
  }
 },
 "nbformat": 4,
 "nbformat_minor": 2
}
